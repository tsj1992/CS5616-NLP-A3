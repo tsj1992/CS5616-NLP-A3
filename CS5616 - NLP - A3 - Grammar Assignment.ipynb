{
 "cells": [
  {
   "cell_type": "markdown",
   "metadata": {},
   "source": [
    "# CS5616 - NLP - A3 - Grammar Assignment"
   ]
  },
  {
   "cell_type": "markdown",
   "metadata": {},
   "source": [
    "## 209338R - KATS Jayathilaka"
   ]
  },
  {
   "cell_type": "markdown",
   "metadata": {},
   "source": [
    "#### -----------------------------------------------------------------------------------------------------"
   ]
  },
  {
   "cell_type": "markdown",
   "metadata": {},
   "source": [
    "### Importing and downloading NLTK Library and Data"
   ]
  },
  {
   "cell_type": "code",
   "execution_count": 1,
   "metadata": {},
   "outputs": [],
   "source": [
    "import nltk\n",
    "import os"
   ]
  },
  {
   "cell_type": "markdown",
   "metadata": {},
   "source": [
    "##### You have to change this directory according to your system. Otherwise, `nltk.download()` will always be invoked."
   ]
  },
  {
   "cell_type": "code",
   "execution_count": 2,
   "metadata": {},
   "outputs": [],
   "source": [
    "# I am KATS Jayathilaka - SINGHABAHU is my nickname\n",
    "NLTK_DATA_PATH_CHECK = '/home/singhabahu/nltk_data/'"
   ]
  },
  {
   "cell_type": "code",
   "execution_count": 3,
   "metadata": {},
   "outputs": [],
   "source": [
    "if not os.path.exists(NLTK_DATA_PATH_CHECK):\n",
    "    nltk.download()"
   ]
  },
  {
   "cell_type": "markdown",
   "metadata": {},
   "source": [
    "### Sentences to be parsed"
   ]
  },
  {
   "cell_type": "code",
   "execution_count": 4,
   "metadata": {},
   "outputs": [],
   "source": [
    "s1 = 'book that flight'.split()\n",
    "s2 = 'can you book TWA flights'.split()"
   ]
  },
  {
   "cell_type": "markdown",
   "metadata": {},
   "source": [
    "### Parsing"
   ]
  },
  {
   "cell_type": "markdown",
   "metadata": {},
   "source": [
    "#### Specifying the grammar"
   ]
  },
  {
   "cell_type": "code",
   "execution_count": 129,
   "metadata": {},
   "outputs": [],
   "source": [
    "# Specified for s1 only\n",
    "g1 = nltk.CFG.fromstring(\"\"\"\n",
    "  S -> VP\n",
    "  VP -> V NP\n",
    "  NP -> Det Nominal\n",
    "  Nominal -> Noun\n",
    "  V -> 'book' | 'can'\n",
    "  Det -> 'that'\n",
    "  Noun -> 'flight'\n",
    "\"\"\")"
   ]
  },
  {
   "cell_type": "code",
   "execution_count": 214,
   "metadata": {},
   "outputs": [],
   "source": [
    "# Specified for both s1 and s2. Developed by extending g1\n",
    "# Attempt 1 not successfull\n",
    "# grammar = nltk.CFG.fromstring(\"\"\"\n",
    "#   S -> VP\n",
    "#   VP -> V NP | V Pronoun VP\n",
    "#   NP -> Det Nominal\n",
    "#   NP -> Proper-Noun Nominal\n",
    "#   Nominal -> Noun\n",
    "#   V -> 'book' | 'can'\n",
    "#   Det -> 'that'\n",
    "#   Noun -> 'flight' | 'flights'\n",
    "#   Pronoun -> 'you'\n",
    "#   Proper-Noun -> 'TWA'\n",
    "# \"\"\")"
   ]
  },
  {
   "cell_type": "code",
   "execution_count": 215,
   "metadata": {},
   "outputs": [],
   "source": [
    "# Specified for both s1 and s2. Developed by extending g1\n",
    "# Attempt 2 fairly successful. sr_parser for s2 not printing\n",
    "# g2 = nltk.CFG.fromstring(\"\"\"\n",
    "#   S -> VP\n",
    "#   VP -> V NP\n",
    "#   VP -> V Pro VP\n",
    "#   NP -> Det Nominal\n",
    "#   NP -> Proper-Noun Nominal\n",
    "#   Nominal -> Noun\n",
    "#   Nominal -> Noun Nominal\n",
    "#   Nominal -> Proper-Noun Nominal\n",
    "#   V -> 'book' | 'can'\n",
    "#   Det -> 'that'\n",
    "#   Noun -> 'flight' | 'flights'\n",
    "#   Pro -> 'you'\n",
    "#   Proper-Noun -> 'TWA'\n",
    "# \"\"\")"
   ]
  },
  {
   "cell_type": "code",
   "execution_count": 216,
   "metadata": {},
   "outputs": [],
   "source": [
    "# Specified for both s1 and s2. Developed by extending g1\n",
    "g2 = nltk.CFG.fromstring(\"\"\"\n",
    "    S -> Aux NP VP\n",
    "    S -> VP\n",
    "    VP -> V NP\n",
    "    VP -> V NP NP\n",
    "    NP -> Det Nominal\n",
    "    NP -> Nominal\n",
    "    NP -> Pronoun\n",
    "    Nominal -> Noun\n",
    "    Nominal -> Proper-Noun Nominal\n",
    "    V -> 'book'\n",
    "    Det -> 'that'\n",
    "    Noun -> 'flight' | 'flights'\n",
    "    Proper-Noun -> 'TWA'\n",
    "    Aux -> 'can'\n",
    "    Pronoun -> 'you'\n",
    "\"\"\")"
   ]
  },
  {
   "cell_type": "markdown",
   "metadata": {},
   "source": [
    "#### 1. Top-down parsing using Recursive Descent Parser"
   ]
  },
  {
   "cell_type": "code",
   "execution_count": 217,
   "metadata": {},
   "outputs": [],
   "source": [
    "rd_parser = nltk.RecursiveDescentParser(g2, trace=2)"
   ]
  },
  {
   "cell_type": "code",
   "execution_count": 218,
   "metadata": {},
   "outputs": [
    {
     "name": "stdout",
     "output_type": "stream",
     "text": [
      "Parsing 'book that flight'\n",
      "    [ * S ]\n",
      "  E [ * Aux NP VP ]\n",
      "  E [ * 'can' NP VP ]\n",
      "  E [ * VP ]\n",
      "  E [ * V NP ]\n",
      "  E [ * 'book' NP ]\n",
      "  M [ 'book' * NP ]\n",
      "  E [ 'book' * Det Nominal ]\n",
      "  E [ 'book' * 'that' Nominal ]\n",
      "  M [ 'book' 'that' * Nominal ]\n",
      "  E [ 'book' 'that' * Noun ]\n",
      "  E [ 'book' 'that' * 'flight' ]\n",
      "  M [ 'book' 'that' 'flight' ]\n",
      "  + [ 'book' 'that' 'flight' ]\n",
      "(S (VP (V book) (NP (Det that) (Nominal (Noun flight)))))\n",
      "  E [ 'book' 'that' * 'flights' ]\n",
      "  E [ 'book' 'that' * Proper-Noun Nominal ]\n",
      "  E [ 'book' 'that' * 'TWA' Nominal ]\n",
      "  E [ 'book' * Nominal ]\n",
      "  E [ 'book' * Noun ]\n",
      "  E [ 'book' * 'flight' ]\n",
      "  E [ 'book' * 'flights' ]\n",
      "  E [ 'book' * Proper-Noun Nominal ]\n",
      "  E [ 'book' * 'TWA' Nominal ]\n",
      "  E [ 'book' * Pronoun ]\n",
      "  E [ 'book' * 'you' ]\n",
      "  E [ * V NP NP ]\n",
      "  E [ * 'book' NP NP ]\n",
      "  M [ 'book' * NP NP ]\n",
      "  E [ 'book' * Det Nominal NP ]\n",
      "  E [ 'book' * 'that' Nominal NP ]\n",
      "  M [ 'book' 'that' * Nominal NP ]\n",
      "  E [ 'book' 'that' * Noun NP ]\n",
      "  E [ 'book' 'that' * 'flight' NP ]\n",
      "  M [ 'book' 'that' 'flight' * NP ]\n",
      "  E [ 'book' 'that' 'flight' * Det Nominal ]\n",
      "  E [ 'book' 'that' 'flight' * 'that' Nominal ]\n",
      "  E [ 'book' 'that' 'flight' * Nominal ]\n",
      "  E [ 'book' 'that' 'flight' * Noun ]\n",
      "  E [ 'book' 'that' 'flight' * 'flight' ]\n",
      "  E [ 'book' 'that' 'flight' * 'flights' ]\n",
      "  E [ 'book' 'that' 'flight' * Proper-Noun Nominal ]\n",
      "  E [ 'book' 'that' 'flight' * 'TWA' Nominal ]\n",
      "  E [ 'book' 'that' 'flight' * Pronoun ]\n",
      "  E [ 'book' 'that' 'flight' * 'you' ]\n",
      "  E [ 'book' 'that' * 'flights' NP ]\n",
      "  E [ 'book' 'that' * Proper-Noun Nominal NP ]\n",
      "  E [ 'book' 'that' * 'TWA' Nominal NP ]\n",
      "  E [ 'book' * Nominal NP ]\n",
      "  E [ 'book' * Noun NP ]\n",
      "  E [ 'book' * 'flight' NP ]\n",
      "  E [ 'book' * 'flights' NP ]\n",
      "  E [ 'book' * Proper-Noun Nominal NP ]\n",
      "  E [ 'book' * 'TWA' Nominal NP ]\n",
      "  E [ 'book' * Pronoun NP ]\n",
      "  E [ 'book' * 'you' NP ]\n"
     ]
    }
   ],
   "source": [
    "for tree in rd_parser.parse(s1):\n",
    "    print(tree)"
   ]
  },
  {
   "cell_type": "code",
   "execution_count": 219,
   "metadata": {},
   "outputs": [
    {
     "name": "stdout",
     "output_type": "stream",
     "text": [
      "Parsing 'can you book TWA flights'\n",
      "    [ * S ]\n",
      "  E [ * Aux NP VP ]\n",
      "  E [ * 'can' NP VP ]\n",
      "  M [ 'can' * NP VP ]\n",
      "  E [ 'can' * Det Nominal VP ]\n",
      "  E [ 'can' * 'that' Nominal VP ]\n",
      "  E [ 'can' * Nominal VP ]\n",
      "  E [ 'can' * Noun VP ]\n",
      "  E [ 'can' * 'flight' VP ]\n",
      "  E [ 'can' * 'flights' VP ]\n",
      "  E [ 'can' * Proper-Noun Nominal VP ]\n",
      "  E [ 'can' * 'TWA' Nominal VP ]\n",
      "  E [ 'can' * Pronoun VP ]\n",
      "  E [ 'can' * 'you' VP ]\n",
      "  M [ 'can' 'you' * VP ]\n",
      "  E [ 'can' 'you' * V NP ]\n",
      "  E [ 'can' 'you' * 'book' NP ]\n",
      "  M [ 'can' 'you' 'book' * NP ]\n",
      "  E [ 'can' 'you' 'book' * Det Nominal ]\n",
      "  E [ 'can' 'you' 'book' * 'that' Nominal ]\n",
      "  E [ 'can' 'you' 'book' * Nominal ]\n",
      "  E [ 'can' 'you' 'book' * Noun ]\n",
      "  E [ 'can' 'you' 'book' * 'flight' ]\n",
      "  E [ 'can' 'you' 'book' * 'flights' ]\n",
      "  E [ 'can' 'you' 'book' * Proper-Noun Nominal ]\n",
      "  E [ 'can' 'you' 'book' * 'TWA' Nominal ]\n",
      "  M [ 'can' 'you' 'book' 'TWA' * Nominal ]\n",
      "  E [ 'can' 'you' 'book' 'TWA' * Noun ]\n",
      "  E [ 'can' 'you' 'book' 'TWA' * 'flight' ]\n",
      "  E [ 'can' 'you' 'book' 'TWA' * 'flights' ]\n",
      "  M [ 'can' 'you' 'book' 'TWA' 'flights' ]\n",
      "  + [ 'can' 'you' 'book' 'TWA' 'flights' ]\n",
      "(S\n",
      "  (Aux can)\n",
      "  (NP (Pronoun you))\n",
      "  (VP\n",
      "    (V book)\n",
      "    (NP (Nominal (Proper-Noun TWA) (Nominal (Noun flights))))))\n",
      "  E [ 'can' 'you' 'book' 'TWA' * Proper-Noun Nominal ]\n",
      "  E [ 'can' 'you' 'book' 'TWA' * 'TWA' Nominal ]\n",
      "  E [ 'can' 'you' 'book' * Pronoun ]\n",
      "  E [ 'can' 'you' 'book' * 'you' ]\n",
      "  E [ 'can' 'you' * V NP NP ]\n",
      "  E [ 'can' 'you' * 'book' NP NP ]\n",
      "  M [ 'can' 'you' 'book' * NP NP ]\n",
      "  E [ 'can' 'you' 'book' * Det Nominal NP ]\n",
      "  E [ 'can' 'you' 'book' * 'that' Nominal NP ]\n",
      "  E [ 'can' 'you' 'book' * Nominal NP ]\n",
      "  E [ 'can' 'you' 'book' * Noun NP ]\n",
      "  E [ 'can' 'you' 'book' * 'flight' NP ]\n",
      "  E [ 'can' 'you' 'book' * 'flights' NP ]\n",
      "  E [ 'can' 'you' 'book' * Proper-Noun Nominal NP ]\n",
      "  E [ 'can' 'you' 'book' * 'TWA' Nominal NP ]\n",
      "  M [ 'can' 'you' 'book' 'TWA' * Nominal NP ]\n",
      "  E [ 'can' 'you' 'book' 'TWA' * Noun NP ]\n",
      "  E [ 'can' 'you' 'book' 'TWA' * 'flight' NP ]\n",
      "  E [ 'can' 'you' 'book' 'TWA' * 'flights' NP ]\n",
      "  M [ 'can' 'you' 'book' 'TWA' 'flights' * NP ]\n",
      "  E [ 'can' 'you' 'book' 'TWA' 'flights' * Det Nominal ]\n",
      "  E [ 'can' 'you' 'book' 'TWA' 'flights' * 'that' Nominal ]\n",
      "  E [ 'can' 'you' 'book' 'TWA' 'flights' * Nominal ]\n",
      "  E [ 'can' 'you' 'book' 'TWA' 'flights' * Noun ]\n",
      "  E [ 'can' 'you' 'book' 'TWA' 'flights' * 'flight' ]\n",
      "  E [ 'can' 'you' 'book' 'TWA' 'flights' * 'flights' ]\n",
      "  E [ 'can' 'you' 'book' 'TWA' 'flights' * Proper-Noun Nominal ]\n",
      "  E [ 'can' 'you' 'book' 'TWA' 'flights' * 'TWA' Nominal ]\n",
      "  E [ 'can' 'you' 'book' 'TWA' 'flights' * Pronoun ]\n",
      "  E [ 'can' 'you' 'book' 'TWA' 'flights' * 'you' ]\n",
      "  E [ 'can' 'you' 'book' 'TWA' * Proper-Noun Nominal NP ]\n",
      "  E [ 'can' 'you' 'book' 'TWA' * 'TWA' Nominal NP ]\n",
      "  E [ 'can' 'you' 'book' * Pronoun NP ]\n",
      "  E [ 'can' 'you' 'book' * 'you' NP ]\n",
      "  E [ * VP ]\n",
      "  E [ * V NP ]\n",
      "  E [ * 'book' NP ]\n",
      "  E [ * V NP NP ]\n",
      "  E [ * 'book' NP NP ]\n"
     ]
    }
   ],
   "source": [
    "for tree in rd_parser.parse(s2):\n",
    "    print(tree)"
   ]
  },
  {
   "cell_type": "markdown",
   "metadata": {},
   "source": [
    "#### 2. Bottom-up parsing using Shift-Reduce Parser"
   ]
  },
  {
   "cell_type": "code",
   "execution_count": 220,
   "metadata": {},
   "outputs": [],
   "source": [
    "sr_parser = nltk.ShiftReduceParser(g2, trace=2)"
   ]
  },
  {
   "cell_type": "code",
   "execution_count": 221,
   "metadata": {},
   "outputs": [
    {
     "name": "stdout",
     "output_type": "stream",
     "text": [
      "Parsing 'book that flight'\n",
      "    [ * book that flight]\n",
      "  S [ 'book' * that flight]\n",
      "  R [ V * that flight]\n",
      "  S [ V 'that' * flight]\n",
      "  R [ V Det * flight]\n",
      "  S [ V Det 'flight' * ]\n",
      "  R [ V Det Noun * ]\n",
      "  R [ V Det Nominal * ]\n",
      "  R [ V NP * ]\n",
      "  R [ VP * ]\n",
      "  R [ S * ]\n",
      "(S (VP (V book) (NP (Det that) (Nominal (Noun flight)))))\n"
     ]
    }
   ],
   "source": [
    "for tree in sr_parser.parse(s1):\n",
    "    print(tree)"
   ]
  },
  {
   "cell_type": "code",
   "execution_count": 222,
   "metadata": {},
   "outputs": [
    {
     "name": "stdout",
     "output_type": "stream",
     "text": [
      "Parsing 'can you book TWA flights'\n",
      "    [ * can you book TWA flights]\n",
      "  S [ 'can' * you book TWA flights]\n",
      "  R [ Aux * you book TWA flights]\n",
      "  S [ Aux 'you' * book TWA flights]\n",
      "  R [ Aux Pronoun * book TWA flights]\n",
      "  R [ Aux NP * book TWA flights]\n",
      "  S [ Aux NP 'book' * TWA flights]\n",
      "  R [ Aux NP V * TWA flights]\n",
      "  S [ Aux NP V 'TWA' * flights]\n",
      "  R [ Aux NP V Proper-Noun * flights]\n",
      "  S [ Aux NP V Proper-Noun 'flights' * ]\n",
      "  R [ Aux NP V Proper-Noun Noun * ]\n",
      "  R [ Aux NP V Proper-Noun Nominal * ]\n",
      "  R [ Aux NP V Proper-Noun NP * ]\n"
     ]
    }
   ],
   "source": [
    "for tree in sr_parser.parse(s2):\n",
    "    print(tree)"
   ]
  },
  {
   "cell_type": "markdown",
   "metadata": {},
   "source": [
    "#### 3. Top-down + Bottom-up parsing using Left-Corner Parser"
   ]
  },
  {
   "cell_type": "code",
   "execution_count": 223,
   "metadata": {},
   "outputs": [],
   "source": [
    "lc_parser = nltk.LeftCornerChartParser(g2, trace=2)"
   ]
  },
  {
   "cell_type": "code",
   "execution_count": 224,
   "metadata": {},
   "outputs": [
    {
     "name": "stdout",
     "output_type": "stream",
     "text": [
      "|.    book   .    that   .   flight  .|\n",
      "Leaf Init Rule:\n",
      "|[-----------]           .           .| [0:1] 'book'\n",
      "|.           [-----------]           .| [1:2] 'that'\n",
      "|.           .           [-----------]| [2:3] 'flight'\n",
      "Filtered Bottom Up Predict Combine Rule:\n",
      "|[-----------]           .           .| [0:1] V  -> 'book' *\n",
      "Filtered Bottom Up Predict Combine Rule:\n",
      "|[----------->           .           .| [0:1] VP -> V * NP\n",
      "|[----------->           .           .| [0:1] VP -> V * NP NP\n",
      "Filtered Bottom Up Predict Combine Rule:\n",
      "|.           [-----------]           .| [1:2] Det -> 'that' *\n",
      "Filtered Bottom Up Predict Combine Rule:\n",
      "|.           [----------->           .| [1:2] NP -> Det * Nominal\n",
      "Filtered Bottom Up Predict Combine Rule:\n",
      "|.           .           [-----------]| [2:3] Noun -> 'flight' *\n",
      "Filtered Bottom Up Predict Combine Rule:\n",
      "|.           .           [-----------]| [2:3] Nominal -> Noun *\n",
      "Filtered Bottom Up Predict Combine Rule:\n",
      "|.           .           [-----------]| [2:3] NP -> Nominal *\n",
      "Filtered Single Edge Fundamental Rule:\n",
      "|.           [-----------------------]| [1:3] NP -> Det Nominal *\n",
      "Filtered Single Edge Fundamental Rule:\n",
      "|[===================================]| [0:3] VP -> V NP *\n",
      "Filtered Bottom Up Predict Combine Rule:\n",
      "|[===================================]| [0:3] S  -> VP *\n",
      "(S (VP (V book) (NP (Det that) (Nominal (Noun flight)))))\n"
     ]
    }
   ],
   "source": [
    "for tree in lc_parser.parse(s1):\n",
    "    print(tree)"
   ]
  },
  {
   "cell_type": "code",
   "execution_count": 225,
   "metadata": {},
   "outputs": [
    {
     "name": "stdout",
     "output_type": "stream",
     "text": [
      "|.  can  .  you  .  book .  TWA  .flights.|\n",
      "Leaf Init Rule:\n",
      "|[-------]       .       .       .       .| [0:1] 'can'\n",
      "|.       [-------]       .       .       .| [1:2] 'you'\n",
      "|.       .       [-------]       .       .| [2:3] 'book'\n",
      "|.       .       .       [-------]       .| [3:4] 'TWA'\n",
      "|.       .       .       .       [-------]| [4:5] 'flights'\n",
      "Filtered Bottom Up Predict Combine Rule:\n",
      "|[-------]       .       .       .       .| [0:1] Aux -> 'can' *\n",
      "Filtered Bottom Up Predict Combine Rule:\n",
      "|[------->       .       .       .       .| [0:1] S  -> Aux * NP VP\n",
      "Filtered Bottom Up Predict Combine Rule:\n",
      "|.       [-------]       .       .       .| [1:2] Pronoun -> 'you' *\n",
      "Filtered Bottom Up Predict Combine Rule:\n",
      "|.       [-------]       .       .       .| [1:2] NP -> Pronoun *\n",
      "Filtered Single Edge Fundamental Rule:\n",
      "|[--------------->       .       .       .| [0:2] S  -> Aux NP * VP\n",
      "Filtered Bottom Up Predict Combine Rule:\n",
      "|.       .       [-------]       .       .| [2:3] V  -> 'book' *\n",
      "Filtered Bottom Up Predict Combine Rule:\n",
      "|.       .       [------->       .       .| [2:3] VP -> V * NP\n",
      "|.       .       [------->       .       .| [2:3] VP -> V * NP NP\n",
      "Filtered Bottom Up Predict Combine Rule:\n",
      "|.       .       .       [-------]       .| [3:4] Proper-Noun -> 'TWA' *\n",
      "Filtered Bottom Up Predict Combine Rule:\n",
      "|.       .       .       [------->       .| [3:4] Nominal -> Proper-Noun * Nominal\n",
      "Filtered Bottom Up Predict Combine Rule:\n",
      "|.       .       .       .       [-------]| [4:5] Noun -> 'flights' *\n",
      "Filtered Bottom Up Predict Combine Rule:\n",
      "|.       .       .       .       [-------]| [4:5] Nominal -> Noun *\n",
      "Filtered Bottom Up Predict Combine Rule:\n",
      "|.       .       .       .       [-------]| [4:5] NP -> Nominal *\n",
      "Filtered Single Edge Fundamental Rule:\n",
      "|.       .       .       [---------------]| [3:5] Nominal -> Proper-Noun Nominal *\n",
      "Filtered Bottom Up Predict Combine Rule:\n",
      "|.       .       .       [---------------]| [3:5] NP -> Nominal *\n",
      "Filtered Single Edge Fundamental Rule:\n",
      "|.       .       [-----------------------]| [2:5] VP -> V NP *\n",
      "Filtered Bottom Up Predict Combine Rule:\n",
      "|.       .       [-----------------------]| [2:5] S  -> VP *\n",
      "Filtered Single Edge Fundamental Rule:\n",
      "|[=======================================]| [0:5] S  -> Aux NP VP *\n",
      "(S\n",
      "  (Aux can)\n",
      "  (NP (Pronoun you))\n",
      "  (VP\n",
      "    (V book)\n",
      "    (NP (Nominal (Proper-Noun TWA) (Nominal (Noun flights))))))\n"
     ]
    }
   ],
   "source": [
    "for tree in lc_parser.parse(s2):\n",
    "    print(tree)"
   ]
  }
 ],
 "metadata": {
  "kernelspec": {
   "display_name": "python38test",
   "language": "python",
   "name": "python38test"
  },
  "language_info": {
   "codemirror_mode": {
    "name": "ipython",
    "version": 3
   },
   "file_extension": ".py",
   "mimetype": "text/x-python",
   "name": "python",
   "nbconvert_exporter": "python",
   "pygments_lexer": "ipython3",
   "version": "3.8.3"
  }
 },
 "nbformat": 4,
 "nbformat_minor": 4
}
